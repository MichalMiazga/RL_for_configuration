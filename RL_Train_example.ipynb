{
 "cells": [
  {
   "cell_type": "code",
   "execution_count": null,
   "outputs": [],
   "source": [
    "from environment import AMLEnv\n",
    "from ray.tune.registry import register_env\n",
    "\n",
    "register_env(\"AML_ENV\", AMLEnv)\n",
    "\n",
    "from ray.tune import tune"
   ],
   "metadata": {
    "collapsed": false
   }
  },
  {
   "cell_type": "markdown",
   "source": [
    "# Train"
   ],
   "metadata": {
    "collapsed": false
   }
  },
  {
   "cell_type": "code",
   "execution_count": null,
   "outputs": [],
   "source": [
    "config = {\n",
    "    \"env\": 'AML_ENV',\n",
    "    \"env_config\": {\n",
    "        'lives': 1,\n",
    "        'terminal':False # Faster execution with False, with True no prints from the lib in the notebook\n",
    "    },\n",
    "    \"horizon\": 50,\n",
    "    \"num_gpus\": 0,\n",
    "    \"framework\": \"torch\",\n",
    "    \"entropy_coeff\": 0.1,  # exploration higher number more random exploration\"\n",
    "    \"num_workers\": 1,\n",
    "    \"num_envs_per_worker\": 4,\n",
    "    \"num_sgd_iter\": 8,\n",
    "    \"simple_optimizer\": True,\n",
    "    \"exploration_config\":\n",
    "        {'type': 'StochasticSampling'},\n",
    "}"
   ],
   "metadata": {
    "collapsed": false
   }
  },
  {
   "cell_type": "code",
   "execution_count": null,
   "outputs": [],
   "source": [
    "tune.run(\n",
    "    \"PPO\",\n",
    "    config=config,\n",
    "    checkpoint_freq=10,\n",
    "    stop={\"training_iteration\": 1000},\n",
    "    checkpoint_at_end=True,\n",
    "    log_to_file=True,  # Set to True to log to file\n",
    "    resume='AUTO'\n",
    ")"
   ],
   "metadata": {
    "collapsed": false
   }
  },
  {
   "cell_type": "markdown",
   "source": [
    "# Convert action to a configuration and save to config.ini"
   ],
   "metadata": {
    "collapsed": false
   }
  },
  {
   "cell_type": "code",
   "execution_count": null,
   "outputs": [],
   "source": [
    "from config_edit import Components\n",
    "from connector import run_command_and_read_last_line\n",
    "\n",
    "action= [0, 2, 0, 14, 1, 0, 0, 3, 2, 4, 0, 2]\n",
    "config_list = Components().convert_action_to_conf(action)\n",
    "f1_score, all_outputs = run_command_and_read_last_line(config_list)\n",
    "print('F1 score:' + str(f1_score))"
   ],
   "metadata": {
    "collapsed": false
   }
  }
 ],
 "metadata": {
  "kernelspec": {
   "display_name": "Python 3",
   "language": "python",
   "name": "python3"
  },
  "language_info": {
   "codemirror_mode": {
    "name": "ipython",
    "version": 2
   },
   "file_extension": ".py",
   "mimetype": "text/x-python",
   "name": "python",
   "nbconvert_exporter": "python",
   "pygments_lexer": "ipython2",
   "version": "2.7.6"
  }
 },
 "nbformat": 4,
 "nbformat_minor": 0
}
